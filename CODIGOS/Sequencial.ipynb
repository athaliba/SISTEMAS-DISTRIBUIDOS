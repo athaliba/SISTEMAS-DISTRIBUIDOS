{
 "cells": [
  {
   "cell_type": "code",
   "execution_count": 5,
   "metadata": {},
   "outputs": [
    {
     "name": "stdout",
     "output_type": "stream",
     "text": [
      "Tempo de execução (sequencial): 1.4390 segundos\n"
     ]
    }
   ],
   "source": [
    "import time\n",
    "\n",
    "def e_primo(n):\n",
    "    if n < 2:\n",
    "        return False\n",
    "    if n in (2, 3):\n",
    "        return True\n",
    "    if n % 2 == 0 or n % 3 == 0:\n",
    "        return False\n",
    "    i = 5\n",
    "    while i * i <= n:\n",
    "        if n % i == 0 or n % (i + 2) == 0:\n",
    "            return False\n",
    "        i += 6\n",
    "    return True\n",
    "\n",
    "def processar_sequencialmente(arquivo_entrada, arquivo_saida):\n",
    "    tempo_inicial = time.time()\n",
    "    \n",
    "    with open(arquivo_entrada, 'r') as f:\n",
    "        numeros = [int(linha.strip()) for linha in f]\n",
    "    \n",
    "    primos = [str(num) for num in numeros if e_primo(num)]\n",
    "    \n",
    "    with open(arquivo_saida, 'w') as f:\n",
    "        f.write('\\n'.join(primos))\n",
    "    \n",
    "    tempo_final = time.time()\n",
    "    print(f\"Tempo de execução (sequencial): {tempo_final - tempo_inicial:.4f} segundos\")\n",
    "\n",
    "processar_sequencialmente('Entrada01.txt', 'SaidaSequencial.txt')\n"
   ]
  }
 ],
 "metadata": {
  "kernelspec": {
   "display_name": "Python 3",
   "language": "python",
   "name": "python3"
  },
  "language_info": {
   "codemirror_mode": {
    "name": "ipython",
    "version": 3
   },
   "file_extension": ".py",
   "mimetype": "text/x-python",
   "name": "python",
   "nbconvert_exporter": "python",
   "pygments_lexer": "ipython3",
   "version": "3.13.2"
  }
 },
 "nbformat": 4,
 "nbformat_minor": 2
}
